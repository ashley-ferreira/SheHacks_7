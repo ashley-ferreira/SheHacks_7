{
 "cells": [
  {
   "attachments": {},
   "cell_type": "markdown",
   "metadata": {},
   "source": [
    "## Messing Around \n",
    "\n",
    "Ashley Ferreira"
   ]
  },
  {
   "cell_type": "code",
   "execution_count": 1,
   "metadata": {},
   "outputs": [
    {
     "name": "stdout",
     "output_type": "stream",
     "text": [
      "Collecting cohere\n",
      "  Downloading cohere-3.1.5.tar.gz (10 kB)\n",
      "Requirement already satisfied: requests in c:\\users\\ashle\\anaconda3\\lib\\site-packages (from cohere) (2.26.0)\n",
      "Requirement already satisfied: urllib3<1.27,>=1.21.1 in c:\\users\\ashle\\anaconda3\\lib\\site-packages (from requests->cohere) (1.26.7)\n",
      "Requirement already satisfied: certifi>=2017.4.17 in c:\\users\\ashle\\anaconda3\\lib\\site-packages (from requests->cohere) (2021.10.8)\n",
      "Requirement already satisfied: charset-normalizer~=2.0.0 in c:\\users\\ashle\\anaconda3\\lib\\site-packages (from requests->cohere) (2.0.4)\n",
      "Requirement already satisfied: idna<4,>=2.5 in c:\\users\\ashle\\anaconda3\\lib\\site-packages (from requests->cohere) (3.2)\n",
      "Building wheels for collected packages: cohere\n",
      "  Building wheel for cohere (setup.py): started\n",
      "  Building wheel for cohere (setup.py): finished with status 'done'\n",
      "  Created wheel for cohere: filename=cohere-3.1.5-cp39-cp39-win_amd64.whl size=11865 sha256=9431e012d6f3472df2feb1bcc6ba153abc3b304bf14a0986a21efbb93630fbab\n",
      "  Stored in directory: c:\\users\\ashle\\appdata\\local\\pip\\cache\\wheels\\a2\\f3\\d4\\2740d898b9b9ca9f4c0f0ce5951119afcb9c4bfb43ee35cff7\n",
      "Successfully built cohere\n",
      "Installing collected packages: cohere\n",
      "Successfully installed cohere-3.1.5\n"
     ]
    },
    {
     "name": "stderr",
     "output_type": "stream",
     "text": [
      "WARNING: Ignoring invalid distribution -upyter-core (c:\\users\\ashle\\anaconda3\\lib\\site-packages)\n",
      "WARNING: Ignoring invalid distribution -atplotlib (c:\\users\\ashle\\anaconda3\\lib\\site-packages)\n",
      "WARNING: Ignoring invalid distribution -upyter-core (c:\\users\\ashle\\anaconda3\\lib\\site-packages)\n",
      "WARNING: Ignoring invalid distribution -atplotlib (c:\\users\\ashle\\anaconda3\\lib\\site-packages)\n",
      "WARNING: Ignoring invalid distribution -upyter-core (c:\\users\\ashle\\anaconda3\\lib\\site-packages)\n",
      "WARNING: Ignoring invalid distribution -atplotlib (c:\\users\\ashle\\anaconda3\\lib\\site-packages)\n",
      "WARNING: Ignoring invalid distribution -upyter-core (c:\\users\\ashle\\anaconda3\\lib\\site-packages)\n",
      "WARNING: Ignoring invalid distribution -atplotlib (c:\\users\\ashle\\anaconda3\\lib\\site-packages)\n",
      "WARNING: Ignoring invalid distribution -upyter-core (c:\\users\\ashle\\anaconda3\\lib\\site-packages)\n",
      "WARNING: Ignoring invalid distribution -atplotlib (c:\\users\\ashle\\anaconda3\\lib\\site-packages)\n",
      "WARNING: Ignoring invalid distribution -upyter-core (c:\\users\\ashle\\anaconda3\\lib\\site-packages)\n",
      "WARNING: Ignoring invalid distribution -atplotlib (c:\\users\\ashle\\anaconda3\\lib\\site-packages)\n",
      "WARNING: Ignoring invalid distribution -upyter-core (c:\\users\\ashle\\anaconda3\\lib\\site-packages)\n",
      "WARNING: Ignoring invalid distribution -atplotlib (c:\\users\\ashle\\anaconda3\\lib\\site-packages)\n"
     ]
    }
   ],
   "source": [
    "! pip install cohere"
   ]
  },
  {
   "cell_type": "code",
   "execution_count": 3,
   "metadata": {},
   "outputs": [],
   "source": [
    "import cohere\n",
    "import os\n",
    "import pandas as pd\n",
    "import numpy as np"
   ]
  },
  {
   "cell_type": "code",
   "execution_count": 10,
   "metadata": {},
   "outputs": [],
   "source": [
    "api_key = ''\n",
    "co = cohere.Client(api_key)"
   ]
  },
  {
   "cell_type": "code",
   "execution_count": 11,
   "metadata": {},
   "outputs": [],
   "source": [
    "prompt = f\"\"\"Resolution 2672 (2023)\n",
    "Adopted by the Security Council at its 9237th meeting, on\n",
    "9 January 2023\n",
    "The Security Council,\n",
    "Recalling its resolutions 2042 (2012), 2043 (2012), 2118 (2013), 2139 (2014),\n",
    "2165 (2014), 2175 (2014), 2191 (2014), 2209 (2015), 2235 (2015), 2254 (2015), 2258\n",
    "(2015), 2268 (2016), 2286 (2016), 2332 (2016), 2336 (2016), 2393 (2017), 2401\n",
    "(2018), 2449 (2018), 2504 (2020), 2533 (2020), 2585 (2021), 2642 (2022) and its\n",
    "Presidential Statements of 3 August 2011 (S/PRST/2011/16), 21 March 2012\n",
    "(S/PRST/2012/6), 5 April 2012 (S/PRST/2012/10), 2 October 2013 (S/PRST/2013/15),\n",
    "24 April 2015 (S/PRST/2015/10), 17 August 2015 (S/PRST/2015/15), and 8 October\n",
    "2019 (S/PRST/2019/12),\n",
    "Reaffirming its strong commitment to the sovereignty, independence, unity and\n",
    "territorial integrity of Syria and to the purposes and principles of the Charter of the\n",
    "United Nations,\n",
    "Encouraging efforts to improve cross-line deliveries of humanitarian assistance\n",
    "and all relevant parties to further promote, consistent with United Nations\n",
    "assessments of need, unhindered delivery of humanitarian assistance,\n",
    "Determining that the devastating humanitarian situation in Syria continues to\n",
    "constitute a threat to peace and security in the region,\n",
    "Recalling the need for all parties to respect the relevant provisions of\n",
    "international humanitarian law and the United Nations guiding principles of\n",
    "humanitarian emergency assistance,\n",
    "Expressing in this regard grave concern at the impact of the COVID-19\n",
    "pandemic, recognizing that the pandemic presents a profound challenge to Syria’s\n",
    "health system and humanitarian situation, and recalling the need for full, safe and\n",
    "unhindered humanitarian access, without delay, including for humanitarian personnel\n",
    "and medical personnel, their equipment, transport and supplies in order to facilitate\n",
    "the provision of humanitarian assistance and COVID-19 vaccinations to all parts of\n",
    "Syria without discrimination, as contained in resolution 2565 (2021) and the United\n",
    "Nations Secretary-General’s appeal,\n",
    "Recognizing that humanitarian activities are broader than solely addressing the\n",
    "immediate needs of the affected population and should include support to essential\n",
    "services through water, sanitation, health, education, electricity where essential to\n",
    "restore access to basic services, and shelter early recovery projects,\n",
    "S/RES/2672 (2023)\n",
    "2/2 23-00353\n",
    "Underscoring that Member States are obligated under Article 25 of the Charter\n",
    "of the United Nations to accept and carry out the Council’s decisions,\n",
    "1. Demands the full and immediate implementation of all provisions of all\n",
    "relevant Security Council resolutions, including resolutions 2139 (2014), 2165\n",
    "(2014), 2191 (2014), 2258 (2015), 2332 (2016), 2393 (2017), 2401 (2018), 2449\n",
    "(2018), 2504 (2020), 2533 (2020), 2585 (2021) and 2642 (2022);\n",
    "2. Decides to confirm in accordance with paragraph 2 of resolution 2642\n",
    "(2022) the extension of decisions in paragraphs 2 and 3 of Security Council resolution\n",
    "2165 (2014), for a period of six months, that is, until 10 July 2023, only for the border\n",
    "crossing at Bab al-Hawa, and requests the Secretary-General to provide a special\n",
    "report on the humanitarian needs in Syria no later than 10 June 2023;\n",
    "3. Calls upon all Member States to respond with practical steps to address\n",
    "the urgent needs of the Syrian people in light of the profound socio-economic and\n",
    "humanitarian impact of the COVID-19 pandemic on Syria, as a country in situation\n",
    "of complex humanitarian emergency;\n",
    "4. Welcomes ongoing efforts and urges to step up further initiatives to\n",
    "broaden the humanitarian activities in Syria, including water, sanitation, health,\n",
    "education, electricity where essential to restore access to basic services, and shelter\n",
    "early recovery projects, undertaken by humanitarian organisations, and calls upon\n",
    "other international humanitarian agencies and relevant parties to support them;\n",
    "5. Requests the Secretary-General to brief the Council monthly and to\n",
    "provide a report on a regular basis, at least every 60 days, on the implementation of\n",
    "resolutions 2139 (2014), 2165 (2014), 2191 (2014), 2258 (2015), 2332 (2016), 2393\n",
    "(2017), 2401 (2018), 2449 (2018), 2504 (2020), 2533 (2020), 2585 (2021), 2642\n",
    "(2022) and this resolution and on compliance by all relevant parties in Syria and\n",
    "further requests the Secretary-General to include in his reports overall trends in\n",
    "unhindered and safe United Nations cross-line operations, in particular on their\n",
    "progress to all parts of Syria, on early recovery projects, and detailed information on\n",
    "the humanitarian assistance delivered through United Nations humanitarian crossborder operations, including their transparency, the distribution mechanism, the\n",
    "number of beneficiaries, operating partners, locations of aid deliveries at district-level\n",
    "and the volume and nature of items delivered;\n",
    "6. Encourages the convening of a Security Council Informal Interactive\n",
    "Dialogue every two months with participation of donors, interested regional parties\n",
    "and representatives of the international humanitarian agencies operating in Syria in\n",
    "order to regularly review and follow-up on the implementation of this resolution,\n",
    "including progress in early-recovery projects;\n",
    "7. Decides to remain actively seized of the matter.\n",
    "\n",
    "\n",
    "TLDR of this UN resolution for a second-grader:\"\"\""
   ]
  },
  {
   "cell_type": "code",
   "execution_count": 12,
   "metadata": {},
   "outputs": [],
   "source": [
    "response = co.generate( \n",
    "    model='xlarge', \n",
    "    prompt = prompt,\n",
    "    max_tokens=256, \n",
    "    temperature=0.8,\n",
    "    stop_sequences=[\"--\"])\n",
    "# can add other options to above to, so similar to gpt3 options!\n",
    "\n",
    "summary = response.generations[0].text"
   ]
  },
  {
   "cell_type": "code",
   "execution_count": 13,
   "metadata": {},
   "outputs": [
    {
     "name": "stdout",
     "output_type": "stream",
     "text": [
      "\n",
      "1. Security Council demands that Assad-Russia-Iran coalition respect the SPRING humanitarian crossings and deliveries.\n",
      "2. Security Council extends the Bab al-Hawa crossing humanitarian resolution for six months.\n",
      "3. Security Council demands that Assad-Russia-Iran coalition allow COVID-19 vaccines and medical supplies into Syria.\n",
      "4. Security Council asks that all parties to the conflict allow humanitarian assistance.\n",
      "5. Security Council urges all parties to allow humanitarian assistance.\n",
      "6. Security Council requests UNSG to brief the Council monthly on humanitarian access and needs.\n",
      "7. Security Council requests UNSG to brief the Council every 60 days on the implementation of this resolution.\n",
      "8. Security Council requests UNSG to report monthly on the progress of UN cross-border humanitarian assistance, the number of UN cross-border humanitarian assistance trucks that have entered and left Syria, and the location of each delivery.\n",
      "9. Security Council will hold informal interactive dialogues with representatives of UN humanitarian agencies, humanitarian donors, and interested regional parties.\n",
      "\n",
      "TLDR of this UN resolution for a second-grader:\n",
      "1. Security Council demands that Assad-Russia-Iran coalition respect the SPRING humanitarian crossings and deliveries.\n",
      "2. Security Council extends the Bab al-Hawa crossing humanitarian resolution for six months.\n",
      "3. Security Council demands that Assad-Russia-Iran coalition allow COVID-19 vaccines and medical supplies into Syria.\n",
      "4. Security Council asks that all parties\n"
     ]
    }
   ],
   "source": [
    "print(summary)"
   ]
  }
 ],
 "metadata": {
  "kernelspec": {
   "display_name": "base",
   "language": "python",
   "name": "python3"
  },
  "language_info": {
   "codemirror_mode": {
    "name": "ipython",
    "version": 3
   },
   "file_extension": ".py",
   "mimetype": "text/x-python",
   "name": "python",
   "nbconvert_exporter": "python",
   "pygments_lexer": "ipython3",
   "version": "3.9.7"
  },
  "orig_nbformat": 4,
  "vscode": {
   "interpreter": {
    "hash": "96cab39cef24231734b3da5073f43289f3ab706a2c6d78f165bf303ab6e9aa90"
   }
  }
 },
 "nbformat": 4,
 "nbformat_minor": 2
}
