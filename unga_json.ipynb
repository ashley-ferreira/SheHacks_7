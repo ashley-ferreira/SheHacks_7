{
 "cells": [
  {
   "attachments": {},
   "cell_type": "markdown",
   "metadata": {},
   "source": [
    "## UNGA JSON"
   ]
  },
  {
   "cell_type": "code",
   "execution_count": 1,
   "metadata": {},
   "outputs": [],
   "source": [
    "import json\n",
    "import cohere\n",
    "import os\n",
    "import pandas as pd\n",
    "import numpy as np"
   ]
  },
  {
   "cell_type": "code",
   "execution_count": 11,
   "metadata": {},
   "outputs": [
    {
     "name": "stdout",
     "output_type": "stream",
     "text": [
      "{'response': {'numFound': 1, 'start': 0, 'docs': [{'id': 'A/RES/55/241_en', 'symbol': 'A/RES/55/241', 'agenda1': '20b', 'session1': '55', 'size': '93402', 'urlJob': 'UNDOC/Gen/N00/573/61/pdf/N0057361.pdf', 'subjects': 'T0003922;T0003939;T0005749;T0003941;T0005400;T0000715;T0003929;T0003917;T0000184;T0001002;T0000172;T0006808', 'publicationDate': '2001-02-14T00:00:00Z', 'url': 'http://daccess-ods.un.org/access.nsf/get?open&DS=A/RES/55/241&Lang=E', 'languageCode': 'en', 'pdfContentLength': '2683', 'pdfContentType': 'application/pdf', 'pdfCreationDate': '2001-04-18T09:07:00Z', 'pdfLastModified': '2001-04-26T16:39:27Z', 'pdfCreated': 'Wed Apr 18 05:07:00 EDT 2001', 'pdfDate': '2001-04-26T16:39:27Z', 'pdfDCTermsModified': '2001-04-26T16:39:27Z', 'pdfModified': '2001-04-26T16:39:27Z', 'dateCreated': '2001-04-18T09:07:00Z', 'filename': '/mnt/data/fulltext/ODSxmlfiles/Part1/Part1-19/b10dd752-c7e0-4a26-b6ce-982eb63e6528.xml', 'requiresNewBody': 'false', 'body_en': '\\nUnited Nations A/RES/55/241\\n\\nGeneral Assembly Distr.: General10 April 2001\\n\\nFifty-fifth session\\nAgenda item 20 (b)\\n\\n00 57361\\n\\nResolution adopted by the General Assembly\\n\\n[without reference to a Main Committee (A/55/L.74 and Add.1)]\\n\\n55/241. Assistance to Bolivia as a result of the flooding\\nexperienced in recent months\\n\\nThe General Assembly,\\n\\nDistressed by the floods, torrents, cave-ins, landslides and inundation caused\\nmainly by the torrential rains that have fallen in recent months, resulting in severe\\neconomic damage and loss of human lives in the territory of Bolivia,\\n\\nRecognizing the large-scale relief and humanitarian assistance efforts being\\nmade by the Government and people of Bolivia to alleviate the suffering of the\\ndisaster victims and meet their immediate needs,\\n\\nNoting the enormous efforts that have been made by the people and\\nGovernment of Bolivia to build peace and democracy and achieve a favourable\\nenvironment for promoting economic growth and furthering human development,\\n\\nAware of the grave consequences of natural disasters, which may present a\\nserious obstacle to economic and social development in the developing countries,\\nand which require considerable amounts of human and financial resources to\\novercome their negative effects, and considering it essential that the international\\ncommunity offer all its technical and financial support and assistance in order to\\nsupplement national efforts to undertake, as soon as possible, the process of\\nrehabilitation, reconstruction and development in the areas afflicted by these natural\\ndisasters,\\n\\n1. Expresses its solidarity and support to the Government and people of\\nBolivia in these difficult times;\\n\\n2. Welcomes the valuable support of the international community in the\\nwork of rescuing and providing emergency relief to the stricken population;\\n\\n3. Urges all Member States, specialized agencies and other organizations\\nand organs of the United Nations system, together with international financial\\ninstitutions and non-governmental organizations, to continue responding generously\\nto Bolivia in its emergency, rehabilitation and reconstruction tasks and programmes,\\nin order to maintain the present political stability and prevent the effects of this\\nnatural disaster from becoming an impediment to the economic and social\\ndevelopment of Bolivia;\\n\\n\\n\\nA/RES/55/241\\n\\n2\\n\\n4. Requests the Secretary-General to make every effort to continue\\nmobilizing and coordinating the humanitarian assistance being provided by the\\nspecialized agencies and other organizations and organs of the United Nations\\nsystem in support of the efforts of the Government of Bolivia.\\n\\n91st plenary meeting\\n14 February 2001\\n\\n\\n', 'title_en': 'ASSISTANCE TO BOLIVIA AS A RESULT OF THE FLOODING EXPERIENCED IN RECENT MONTHS : RESOLUTION / ADOPTED BY THE GENERAL ASSEMBLY', '_version_': 1511310020295262208, 'last_update': '2015-09-03T16:25:50.471Z', 'collection': 'ods', 'score': 13.296819}]}}\n",
      "\n",
      "United Nations A/RES/55/241\n",
      "\n",
      "General Assembly Distr.: General10 April 2001\n",
      "\n",
      "Fifty-fifth session\n",
      "Agenda item 20 (b)\n",
      "\n",
      "00 57361\n",
      "\n",
      "Resolution adopted by the General Assembly\n",
      "\n",
      "[without reference to a Main Committee (A/55/L.74 and Add.1)]\n",
      "\n",
      "55/241. Assistance to Bolivia as a result of the flooding\n",
      "experienced in recent months\n",
      "\n",
      "The General Assembly,\n",
      "\n",
      "Distressed by the floods, torrents, cave-ins, landslides and inundation caused\n",
      "mainly by the torrential rains that have fallen in recent months, resulting in severe\n",
      "economic damage and loss of human lives in the territory of Bolivia,\n",
      "\n",
      "Recognizing the large-scale relief and humanitarian assistance efforts being\n",
      "made by the Government and people of Bolivia to alleviate the suffering of the\n",
      "disaster victims and meet their immediate needs,\n",
      "\n",
      "Noting the enormous efforts that have been made by the people and\n",
      "Government of Bolivia to build peace and democracy and achieve a favourable\n",
      "environment for promoting economic growth and furthering human development,\n",
      "\n",
      "Aware of the grave consequences of natural disasters, which may present a\n",
      "serious obstacle to economic and social development in the developing countries,\n",
      "and which require considerable amounts of human and financial resources to\n",
      "overcome their negative effects, and considering it essential that the international\n",
      "community offer all its technical and financial support and assistance in order to\n",
      "supplement national efforts to undertake, as soon as possible, the process of\n",
      "rehabilitation, reconstruction and development in the areas afflicted by these natural\n",
      "disasters,\n",
      "\n",
      "1. Expresses its solidarity and support to the Government and people of\n",
      "Bolivia in these difficult times;\n",
      "\n",
      "2. Welcomes the valuable support of the international community in the\n",
      "work of rescuing and providing emergency relief to the stricken population;\n",
      "\n",
      "3. Urges all Member States, specialized agencies and other organizations\n",
      "and organs of the United Nations system, together with international financial\n",
      "institutions and non-governmental organizations, to continue responding generously\n",
      "to Bolivia in its emergency, rehabilitation and reconstruction tasks and programmes,\n",
      "in order to maintain the present political stability and prevent the effects of this\n",
      "natural disaster from becoming an impediment to the economic and social\n",
      "development of Bolivia;\n",
      "\n",
      "\n",
      "\n",
      "A/RES/55/241\n",
      "\n",
      "2\n",
      "\n",
      "4. Requests the Secretary-General to make every effort to continue\n",
      "mobilizing and coordinating the humanitarian assistance being provided by the\n",
      "specialized agencies and other organizations and organs of the United Nations\n",
      "system in support of the efforts of the Government of Bolivia.\n",
      "\n",
      "91st plenary meeting\n",
      "14 February 2001\n",
      "\n",
      "\n",
      "\n"
     ]
    }
   ],
   "source": [
    "import json\n",
    "  \n",
    "# Opening JSON file\n",
    "f = open('docs.json', 'r', encoding='utf-8')\n",
    "  \n",
    "# returns JSON object as \n",
    "# a dictionary\n",
    "data = json.load(f)\n",
    "  \n",
    "n = 0   \n",
    "# Iterating through the json\n",
    "# list\n",
    "for i in data:\n",
    "    print(i)\n",
    "    title = i['response']['docs'][0]['title_en']\n",
    "    #print(title)\n",
    "    id = i['response']['docs'][0]['id']\n",
    "    print(id)\n",
    "    date = i['response']['docs'][0]['publicationDate']\n",
    "    print(date)\n",
    "    body = i['response']['docs'][0]['body_en']\n",
    "    print(body)\n",
    "\n",
    "    n += 1\n",
    "    if n > 0:\n",
    "        break\n",
    "  \n",
    "# Closing file\n",
    "f.close()"
   ]
  },
  {
   "cell_type": "code",
   "execution_count": null,
   "metadata": {},
   "outputs": [],
   "source": []
  },
  {
   "cell_type": "code",
   "execution_count": null,
   "metadata": {},
   "outputs": [],
   "source": []
  }
 ],
 "metadata": {
  "kernelspec": {
   "display_name": "base",
   "language": "python",
   "name": "python3"
  },
  "language_info": {
   "codemirror_mode": {
    "name": "ipython",
    "version": 3
   },
   "file_extension": ".py",
   "mimetype": "text/x-python",
   "name": "python",
   "nbconvert_exporter": "python",
   "pygments_lexer": "ipython3",
   "version": "3.9.7"
  },
  "orig_nbformat": 4,
  "vscode": {
   "interpreter": {
    "hash": "96cab39cef24231734b3da5073f43289f3ab706a2c6d78f165bf303ab6e9aa90"
   }
  }
 },
 "nbformat": 4,
 "nbformat_minor": 2
}
