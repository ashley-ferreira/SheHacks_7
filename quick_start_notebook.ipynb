{
 "cells": [
  {
   "attachments": {},
   "cell_type": "markdown",
   "metadata": {},
   "source": [
    "## Messing Around \n",
    "\n",
    "Ashley Ferreira"
   ]
  },
  {
   "cell_type": "code",
   "execution_count": 1,
   "metadata": {},
   "outputs": [
    {
     "name": "stdout",
     "output_type": "stream",
     "text": [
      "Collecting cohere\n",
      "  Downloading cohere-3.1.5.tar.gz (10 kB)\n",
      "Requirement already satisfied: requests in c:\\users\\ashle\\anaconda3\\lib\\site-packages (from cohere) (2.26.0)\n",
      "Requirement already satisfied: urllib3<1.27,>=1.21.1 in c:\\users\\ashle\\anaconda3\\lib\\site-packages (from requests->cohere) (1.26.7)\n",
      "Requirement already satisfied: certifi>=2017.4.17 in c:\\users\\ashle\\anaconda3\\lib\\site-packages (from requests->cohere) (2021.10.8)\n",
      "Requirement already satisfied: charset-normalizer~=2.0.0 in c:\\users\\ashle\\anaconda3\\lib\\site-packages (from requests->cohere) (2.0.4)\n",
      "Requirement already satisfied: idna<4,>=2.5 in c:\\users\\ashle\\anaconda3\\lib\\site-packages (from requests->cohere) (3.2)\n",
      "Building wheels for collected packages: cohere\n",
      "  Building wheel for cohere (setup.py): started\n",
      "  Building wheel for cohere (setup.py): finished with status 'done'\n",
      "  Created wheel for cohere: filename=cohere-3.1.5-cp39-cp39-win_amd64.whl size=11865 sha256=9431e012d6f3472df2feb1bcc6ba153abc3b304bf14a0986a21efbb93630fbab\n",
      "  Stored in directory: c:\\users\\ashle\\appdata\\local\\pip\\cache\\wheels\\a2\\f3\\d4\\2740d898b9b9ca9f4c0f0ce5951119afcb9c4bfb43ee35cff7\n",
      "Successfully built cohere\n",
      "Installing collected packages: cohere\n",
      "Successfully installed cohere-3.1.5\n"
     ]
    },
    {
     "name": "stderr",
     "output_type": "stream",
     "text": [
      "WARNING: Ignoring invalid distribution -upyter-core (c:\\users\\ashle\\anaconda3\\lib\\site-packages)\n",
      "WARNING: Ignoring invalid distribution -atplotlib (c:\\users\\ashle\\anaconda3\\lib\\site-packages)\n",
      "WARNING: Ignoring invalid distribution -upyter-core (c:\\users\\ashle\\anaconda3\\lib\\site-packages)\n",
      "WARNING: Ignoring invalid distribution -atplotlib (c:\\users\\ashle\\anaconda3\\lib\\site-packages)\n",
      "WARNING: Ignoring invalid distribution -upyter-core (c:\\users\\ashle\\anaconda3\\lib\\site-packages)\n",
      "WARNING: Ignoring invalid distribution -atplotlib (c:\\users\\ashle\\anaconda3\\lib\\site-packages)\n",
      "WARNING: Ignoring invalid distribution -upyter-core (c:\\users\\ashle\\anaconda3\\lib\\site-packages)\n",
      "WARNING: Ignoring invalid distribution -atplotlib (c:\\users\\ashle\\anaconda3\\lib\\site-packages)\n",
      "WARNING: Ignoring invalid distribution -upyter-core (c:\\users\\ashle\\anaconda3\\lib\\site-packages)\n",
      "WARNING: Ignoring invalid distribution -atplotlib (c:\\users\\ashle\\anaconda3\\lib\\site-packages)\n",
      "WARNING: Ignoring invalid distribution -upyter-core (c:\\users\\ashle\\anaconda3\\lib\\site-packages)\n",
      "WARNING: Ignoring invalid distribution -atplotlib (c:\\users\\ashle\\anaconda3\\lib\\site-packages)\n",
      "WARNING: Ignoring invalid distribution -upyter-core (c:\\users\\ashle\\anaconda3\\lib\\site-packages)\n",
      "WARNING: Ignoring invalid distribution -atplotlib (c:\\users\\ashle\\anaconda3\\lib\\site-packages)\n"
     ]
    }
   ],
   "source": [
    "! pip install cohere"
   ]
  },
  {
   "cell_type": "code",
   "execution_count": 2,
   "metadata": {},
   "outputs": [],
   "source": [
    "import cohere\n",
    "import os\n",
    "import pandas as pd\n",
    "import numpy as np"
   ]
  },
  {
   "cell_type": "code",
   "execution_count": 3,
   "metadata": {},
   "outputs": [],
   "source": [
    "api_key = ''\n",
    "co = cohere.Client(api_key)"
   ]
  },
  {
   "cell_type": "code",
   "execution_count": 4,
   "metadata": {},
   "outputs": [],
   "source": [
    "prompt = f\"\"\"Passage: Is Wordle getting tougher to solve? Players seem to be convinced that the game has gotten harder in recent weeks ever since The New York Times bought it from developer Josh Wardle in late January. The Times has come forward and shared that this likely isn't the case. That said, the NYT did mess with the back end code a bit, removing some offensive and sexual language, as well as some obscure words There is a viral thread claiming that a confirmation bias was at play. One Twitter user went so far as to claim the game has gone to \"the dusty section of the dictionary\" to find its latest words.\n",
    "\n",
    "TLDR: Wordle has not gotten more difficult to solve.\n",
    "--\n",
    "Passage: ArtificialIvan, a seven-year-old, London-based payment and expense management software company, has raised $190 million in Series C funding led by ARG Global, with participation from D9 Capital Group and Boulder Capital. Earlier backers also joined the round, including Hilton Group, Roxanne Capital, Paved Roads Ventures, Brook Partners, and Plato Capital.\n",
    "\n",
    "TLDR: ArtificialIvan has raised $190 million in Series C funding.\n",
    "--\n",
    "Passage: The National Weather Service announced Tuesday that a freeze warning is in effect for the Bay Area, with freezing temperatures expected in these areas overnight. Temperatures could fall into the mid-20s to low 30s in some areas. In anticipation of the hard freeze, the weather service warns people to take action now.\n",
    "\n",
    "TLDR:\"\"\""
   ]
  },
  {
   "cell_type": "code",
   "execution_count": 5,
   "metadata": {},
   "outputs": [],
   "source": [
    "response = co.generate( \n",
    "    model='xlarge', \n",
    "    prompt = prompt,\n",
    "    max_tokens=40, \n",
    "    temperature=0.8,\n",
    "    stop_sequences=[\"--\"])\n",
    "# can add other options to above to, so similar to gpt3 options!\n",
    "\n",
    "summary = response.generations[0].text"
   ]
  },
  {
   "cell_type": "code",
   "execution_count": 6,
   "metadata": {},
   "outputs": [
    {
     "name": "stdout",
     "output_type": "stream",
     "text": [
      " Freeze warning issued for Bay Area.\n",
      "--\n"
     ]
    }
   ],
   "source": [
    "print(summary)"
   ]
  }
 ],
 "metadata": {
  "kernelspec": {
   "display_name": "base",
   "language": "python",
   "name": "python3"
  },
  "language_info": {
   "codemirror_mode": {
    "name": "ipython",
    "version": 3
   },
   "file_extension": ".py",
   "mimetype": "text/x-python",
   "name": "python",
   "nbconvert_exporter": "python",
   "pygments_lexer": "ipython3",
   "version": "3.9.7 (default, Sep 16 2021, 16:59:28) [MSC v.1916 64 bit (AMD64)]"
  },
  "orig_nbformat": 4,
  "vscode": {
   "interpreter": {
    "hash": "96cab39cef24231734b3da5073f43289f3ab706a2c6d78f165bf303ab6e9aa90"
   }
  }
 },
 "nbformat": 4,
 "nbformat_minor": 2
}
