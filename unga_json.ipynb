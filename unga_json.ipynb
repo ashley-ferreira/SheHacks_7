{
 "cells": [
  {
   "attachments": {},
   "cell_type": "markdown",
   "metadata": {},
   "source": [
    "## UNGA JSON"
   ]
  },
  {
   "cell_type": "code",
   "execution_count": 1,
   "metadata": {},
   "outputs": [],
   "source": [
    "import json\n",
    "import cohere\n",
    "import os\n",
    "import pandas as pd\n",
    "import numpy as np"
   ]
  },
  {
   "attachments": {},
   "cell_type": "markdown",
   "metadata": {},
   "source": [
    "An array of strings for the model to embed. Maximum number of texts per call is 96. We recommend reducing the length of each text to be under 512 tokens for optimal quality - texts longer than 512 tokens will be spliced and the resulting embeddings of each component are then averaged and returned. The token limit per text is 4096, and the minimum is 1 token."
   ]
  },
  {
   "cell_type": "code",
   "execution_count": 14,
   "metadata": {},
   "outputs": [],
   "source": [
    "# Opening JSON file\n",
    "f = open('docs.json', 'r', encoding='utf-8')\n",
    "  \n",
    "# returns JSON object as \n",
    "# a dictionary\n",
    "data = json.load(f)\n",
    "  \n",
    "n = 0  \n",
    "max_texts = 96\n",
    "max_tokens = 512\n",
    "\n",
    "title_lst = []\n",
    "id_lst = []\n",
    "date_lst = []\n",
    "body_lst = []\n",
    "# Iterating through the json\n",
    "# list\n",
    "for i in data:\n",
    "    n += 1\n",
    "    if n > max_texts:\n",
    "        break\n",
    "\n",
    "    #print(i)\n",
    "    title = i['response']['docs'][0]['title_en']\n",
    "    print(title)\n",
    "    id = i['response']['docs'][0]['id']\n",
    "    #print(id)\n",
    "    date = i['response']['docs'][0]['publicationDate']\n",
    "    #print(date)\n",
    "    body = i['response']['docs'][0]['body_en']\n",
    "    #print(body)\n",
    "\n",
    "    # check body is not too long\n",
    "    if len(body)//4 > 512:\n",
    "        print('too long')\n",
    "        \n",
    "    else:\n",
    "        title_lst.append(title)\n",
    "        id_lst.append(id)\n",
    "        date_lst.append(body)\n",
    "        body_lst.append(body)\n",
    "  \n",
    "# Closing file\n",
    "f.close()"
   ]
  },
  {
   "cell_type": "code",
   "execution_count": null,
   "metadata": {},
   "outputs": [],
   "source": []
  },
  {
   "cell_type": "code",
   "execution_count": null,
   "metadata": {},
   "outputs": [],
   "source": []
  }
 ],
 "metadata": {
  "kernelspec": {
   "display_name": "base",
   "language": "python",
   "name": "python3"
  },
  "language_info": {
   "codemirror_mode": {
    "name": "ipython",
    "version": 3
   },
   "file_extension": ".py",
   "mimetype": "text/x-python",
   "name": "python",
   "nbconvert_exporter": "python",
   "pygments_lexer": "ipython3",
   "version": "3.9.7"
  },
  "orig_nbformat": 4,
  "vscode": {
   "interpreter": {
    "hash": "96cab39cef24231734b3da5073f43289f3ab706a2c6d78f165bf303ab6e9aa90"
   }
  }
 },
 "nbformat": 4,
 "nbformat_minor": 2
}
